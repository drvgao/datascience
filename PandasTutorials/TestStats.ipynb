{
 "cells": [
  {
   "cell_type": "markdown",
   "metadata": {},
   "source": [
    "<h1>Test statistics </h1>"
   ]
  },
  {
   "cell_type": "code",
   "execution_count": 1,
   "metadata": {},
   "outputs": [
    {
     "data": {
      "text/plain": [
       "'C:\\\\rdev\\\\pyproj\\\\notebooks\\\\PandasTutorials\\\\..\\\\suite_files\\\\chrome_tests.csv'"
      ]
     },
     "execution_count": 1,
     "metadata": {},
     "output_type": "execute_result"
    }
   ],
   "source": [
    "import os\n",
    "os.getcwd()\n",
    "tests = os.path.join(\n",
    "    os.getcwd(), '..\\suite_files\\chrome_tests.csv')\n",
    "tests"
   ]
  },
  {
   "cell_type": "code",
   "execution_count": 2,
   "metadata": {},
   "outputs": [
    {
     "data": {
      "text/html": [
       "<div>\n",
       "<style scoped>\n",
       "    .dataframe tbody tr th:only-of-type {\n",
       "        vertical-align: middle;\n",
       "    }\n",
       "\n",
       "    .dataframe tbody tr th {\n",
       "        vertical-align: top;\n",
       "    }\n",
       "\n",
       "    .dataframe thead th {\n",
       "        text-align: right;\n",
       "    }\n",
       "</style>\n",
       "<table border=\"1\" class=\"dataframe\">\n",
       "  <thead>\n",
       "    <tr style=\"text-align: right;\">\n",
       "      <th></th>\n",
       "      <th>Suite Name</th>\n",
       "      <th>Test Case</th>\n",
       "      <th>Status</th>\n",
       "      <th>Time (s)</th>\n",
       "      <th>Error Message</th>\n",
       "      <th>Tags</th>\n",
       "    </tr>\n",
       "  </thead>\n",
       "  <tbody>\n",
       "    <tr>\n",
       "      <th>0</th>\n",
       "      <td>PlayLottery-Group Play</td>\n",
       "      <td>Join Group Members</td>\n",
       "      <td>PASS</td>\n",
       "      <td>909.295</td>\n",
       "      <td>NaN</td>\n",
       "      <td>[new, PDPTR-1638, Portal, smoke, test]</td>\n",
       "    </tr>\n",
       "    <tr>\n",
       "      <th>1</th>\n",
       "      <td>PlayLottery-Internet Wager via Replay</td>\n",
       "      <td>Replay Wagers AllOrNothing</td>\n",
       "      <td>PASS</td>\n",
       "      <td>872.542</td>\n",
       "      <td>NaN</td>\n",
       "      <td>[extendedsmoke, iLottery, new, PDPTR-1634]</td>\n",
       "    </tr>\n",
       "    <tr>\n",
       "      <th>2</th>\n",
       "      <td>PlayLottery-Internet Wager via Replay</td>\n",
       "      <td>Replay Wagers Pick4</td>\n",
       "      <td>PASS</td>\n",
       "      <td>793.778</td>\n",
       "      <td>NaN</td>\n",
       "      <td>[extendedsmoke, iLottery, new, PDPTR-1634]</td>\n",
       "    </tr>\n",
       "  </tbody>\n",
       "</table>\n",
       "</div>"
      ],
      "text/plain": [
       "                              Suite Name                   Test Case Status  \\\n",
       "0                 PlayLottery-Group Play          Join Group Members   PASS   \n",
       "1  PlayLottery-Internet Wager via Replay  Replay Wagers AllOrNothing   PASS   \n",
       "2  PlayLottery-Internet Wager via Replay         Replay Wagers Pick4   PASS   \n",
       "\n",
       "   Time (s) Error Message                                        Tags  \n",
       "0   909.295           NaN      [new, PDPTR-1638, Portal, smoke, test]  \n",
       "1   872.542           NaN  [extendedsmoke, iLottery, new, PDPTR-1634]  \n",
       "2   793.778           NaN  [extendedsmoke, iLottery, new, PDPTR-1634]  "
      ]
     },
     "execution_count": 2,
     "metadata": {},
     "output_type": "execute_result"
    }
   ],
   "source": [
    "import pandas as pd\n",
    "df = pd.read_csv(tests)\n",
    "df.head(3)"
   ]
  },
  {
   "cell_type": "code",
   "execution_count": 3,
   "metadata": {},
   "outputs": [
    {
     "data": {
      "text/plain": [
       "Suite Name        object\n",
       "Test Case         object\n",
       "Status            object\n",
       "Time (s)         float64\n",
       "Error Message     object\n",
       "Tags              object\n",
       "dtype: object"
      ]
     },
     "execution_count": 3,
     "metadata": {},
     "output_type": "execute_result"
    }
   ],
   "source": [
    "df.dtypes"
   ]
  },
  {
   "cell_type": "markdown",
   "metadata": {},
   "source": [
    "<h2 style=\"background-color:LightBlue;padding:6px\">Test Time Statistics</h2>"
   ]
  },
  {
   "cell_type": "code",
   "execution_count": 4,
   "metadata": {},
   "outputs": [
    {
     "data": {
      "text/html": [
       "<div>\n",
       "<style scoped>\n",
       "    .dataframe tbody tr th:only-of-type {\n",
       "        vertical-align: middle;\n",
       "    }\n",
       "\n",
       "    .dataframe tbody tr th {\n",
       "        vertical-align: top;\n",
       "    }\n",
       "\n",
       "    .dataframe thead th {\n",
       "        text-align: right;\n",
       "    }\n",
       "</style>\n",
       "<table border=\"1\" class=\"dataframe\">\n",
       "  <thead>\n",
       "    <tr style=\"text-align: right;\">\n",
       "      <th></th>\n",
       "      <th>Suite Name</th>\n",
       "      <th>Test Case</th>\n",
       "      <th>Status</th>\n",
       "      <th>Time (s)</th>\n",
       "      <th>Error Message</th>\n",
       "      <th>Tags</th>\n",
       "    </tr>\n",
       "  </thead>\n",
       "  <tbody>\n",
       "    <tr>\n",
       "      <th>0</th>\n",
       "      <td>PlayLottery-Group Play</td>\n",
       "      <td>Join Group Members</td>\n",
       "      <td>PASS</td>\n",
       "      <td>909.295</td>\n",
       "      <td>NaN</td>\n",
       "      <td>[new, PDPTR-1638, Portal, smoke, test]</td>\n",
       "    </tr>\n",
       "    <tr>\n",
       "      <th>1</th>\n",
       "      <td>PlayLottery-Internet Wager via Replay</td>\n",
       "      <td>Replay Wagers AllOrNothing</td>\n",
       "      <td>PASS</td>\n",
       "      <td>872.542</td>\n",
       "      <td>NaN</td>\n",
       "      <td>[extendedsmoke, iLottery, new, PDPTR-1634]</td>\n",
       "    </tr>\n",
       "    <tr>\n",
       "      <th>2</th>\n",
       "      <td>PlayLottery-Internet Wager via Replay</td>\n",
       "      <td>Replay Wagers Pick4</td>\n",
       "      <td>PASS</td>\n",
       "      <td>793.778</td>\n",
       "      <td>NaN</td>\n",
       "      <td>[extendedsmoke, iLottery, new, PDPTR-1634]</td>\n",
       "    </tr>\n",
       "    <tr>\n",
       "      <th>3</th>\n",
       "      <td>PlayLottery-Internet Wager via Replay</td>\n",
       "      <td>Replay Wagers Pick3</td>\n",
       "      <td>PASS</td>\n",
       "      <td>773.336</td>\n",
       "      <td>NaN</td>\n",
       "      <td>[extendedsmoke, iLottery, new, PDPTR-1634]</td>\n",
       "    </tr>\n",
       "    <tr>\n",
       "      <th>4</th>\n",
       "      <td>PlayLottery-Internet Wager via Replay</td>\n",
       "      <td>Replay Wagers Powerball</td>\n",
       "      <td>PASS</td>\n",
       "      <td>772.496</td>\n",
       "      <td>NaN</td>\n",
       "      <td>[iLottery, new, PDPTR-1634, smoke]</td>\n",
       "    </tr>\n",
       "  </tbody>\n",
       "</table>\n",
       "</div>"
      ],
      "text/plain": [
       "                              Suite Name                   Test Case Status  \\\n",
       "0                 PlayLottery-Group Play          Join Group Members   PASS   \n",
       "1  PlayLottery-Internet Wager via Replay  Replay Wagers AllOrNothing   PASS   \n",
       "2  PlayLottery-Internet Wager via Replay         Replay Wagers Pick4   PASS   \n",
       "3  PlayLottery-Internet Wager via Replay         Replay Wagers Pick3   PASS   \n",
       "4  PlayLottery-Internet Wager via Replay     Replay Wagers Powerball   PASS   \n",
       "\n",
       "   Time (s) Error Message                                        Tags  \n",
       "0   909.295           NaN      [new, PDPTR-1638, Portal, smoke, test]  \n",
       "1   872.542           NaN  [extendedsmoke, iLottery, new, PDPTR-1634]  \n",
       "2   793.778           NaN  [extendedsmoke, iLottery, new, PDPTR-1634]  \n",
       "3   773.336           NaN  [extendedsmoke, iLottery, new, PDPTR-1634]  \n",
       "4   772.496           NaN          [iLottery, new, PDPTR-1634, smoke]  "
      ]
     },
     "execution_count": 4,
     "metadata": {},
     "output_type": "execute_result"
    }
   ],
   "source": [
    "# Top 10 time taking tests\n",
    "# sort values\n",
    "Sorted = df.sort_values(['Time (s)'], ascending=False)\n",
    "Sorted.head(5)"
   ]
  },
  {
   "cell_type": "code",
   "execution_count": 5,
   "metadata": {},
   "outputs": [
    {
     "data": {
      "text/plain": [
       "909.295"
      ]
     },
     "execution_count": 5,
     "metadata": {},
     "output_type": "execute_result"
    }
   ],
   "source": [
    "# finding the max\n",
    "df['Time (s)'].max()"
   ]
  },
  {
   "cell_type": "code",
   "execution_count": 6,
   "metadata": {},
   "outputs": [],
   "source": [
    "import matplotlib.pyplot as plt\n",
    "import matplotlib #only needed to determine Matplotlib version number\n",
    "\n",
    "# Enable inline plotting\n",
    "%matplotlib inline"
   ]
  },
  {
   "cell_type": "code",
   "execution_count": 7,
   "metadata": {},
   "outputs": [
    {
     "name": "stdout",
     "output_type": "stream",
     "text": [
      "The most time taking test name\n"
     ]
    },
    {
     "data": {
      "text/html": [
       "<div>\n",
       "<style scoped>\n",
       "    .dataframe tbody tr th:only-of-type {\n",
       "        vertical-align: middle;\n",
       "    }\n",
       "\n",
       "    .dataframe tbody tr th {\n",
       "        vertical-align: top;\n",
       "    }\n",
       "\n",
       "    .dataframe thead th {\n",
       "        text-align: right;\n",
       "    }\n",
       "</style>\n",
       "<table border=\"1\" class=\"dataframe\">\n",
       "  <thead>\n",
       "    <tr style=\"text-align: right;\">\n",
       "      <th></th>\n",
       "      <th>Suite Name</th>\n",
       "      <th>Test Case</th>\n",
       "      <th>Status</th>\n",
       "      <th>Time (s)</th>\n",
       "      <th>Error Message</th>\n",
       "      <th>Tags</th>\n",
       "    </tr>\n",
       "  </thead>\n",
       "  <tbody>\n",
       "    <tr>\n",
       "      <th>0</th>\n",
       "      <td>PlayLottery-Group Play</td>\n",
       "      <td>Join Group Members</td>\n",
       "      <td>PASS</td>\n",
       "      <td>909.295</td>\n",
       "      <td>NaN</td>\n",
       "      <td>[new, PDPTR-1638, Portal, smoke, test]</td>\n",
       "    </tr>\n",
       "    <tr>\n",
       "      <th>1</th>\n",
       "      <td>PlayLottery-Internet Wager via Replay</td>\n",
       "      <td>Replay Wagers AllOrNothing</td>\n",
       "      <td>PASS</td>\n",
       "      <td>872.542</td>\n",
       "      <td>NaN</td>\n",
       "      <td>[extendedsmoke, iLottery, new, PDPTR-1634]</td>\n",
       "    </tr>\n",
       "    <tr>\n",
       "      <th>2</th>\n",
       "      <td>PlayLottery-Internet Wager via Replay</td>\n",
       "      <td>Replay Wagers Pick4</td>\n",
       "      <td>PASS</td>\n",
       "      <td>793.778</td>\n",
       "      <td>NaN</td>\n",
       "      <td>[extendedsmoke, iLottery, new, PDPTR-1634]</td>\n",
       "    </tr>\n",
       "    <tr>\n",
       "      <th>3</th>\n",
       "      <td>PlayLottery-Internet Wager via Replay</td>\n",
       "      <td>Replay Wagers Pick3</td>\n",
       "      <td>PASS</td>\n",
       "      <td>773.336</td>\n",
       "      <td>NaN</td>\n",
       "      <td>[extendedsmoke, iLottery, new, PDPTR-1634]</td>\n",
       "    </tr>\n",
       "    <tr>\n",
       "      <th>4</th>\n",
       "      <td>PlayLottery-Internet Wager via Replay</td>\n",
       "      <td>Replay Wagers Powerball</td>\n",
       "      <td>PASS</td>\n",
       "      <td>772.496</td>\n",
       "      <td>NaN</td>\n",
       "      <td>[iLottery, new, PDPTR-1634, smoke]</td>\n",
       "    </tr>\n",
       "  </tbody>\n",
       "</table>\n",
       "</div>"
      ],
      "text/plain": [
       "                              Suite Name                   Test Case Status  \\\n",
       "0                 PlayLottery-Group Play          Join Group Members   PASS   \n",
       "1  PlayLottery-Internet Wager via Replay  Replay Wagers AllOrNothing   PASS   \n",
       "2  PlayLottery-Internet Wager via Replay         Replay Wagers Pick4   PASS   \n",
       "3  PlayLottery-Internet Wager via Replay         Replay Wagers Pick3   PASS   \n",
       "4  PlayLottery-Internet Wager via Replay     Replay Wagers Powerball   PASS   \n",
       "\n",
       "   Time (s) Error Message                                        Tags  \n",
       "0   909.295           NaN      [new, PDPTR-1638, Portal, smoke, test]  \n",
       "1   872.542           NaN  [extendedsmoke, iLottery, new, PDPTR-1634]  \n",
       "2   793.778           NaN  [extendedsmoke, iLottery, new, PDPTR-1634]  \n",
       "3   773.336           NaN  [extendedsmoke, iLottery, new, PDPTR-1634]  \n",
       "4   772.496           NaN          [iLottery, new, PDPTR-1634, smoke]  "
      ]
     },
     "execution_count": 7,
     "metadata": {},
     "output_type": "execute_result"
    },
    {
     "data": {
      "image/png": "[encoded data removed]",
      "text/plain": [
       "<Figure size 432x288 with 1 Axes>"
      ]
     },
     "metadata": {
      "needs_background": "light"
     },
     "output_type": "display_data"
    }
   ],
   "source": [
    "# Create graph\n",
    "df['Time (s)'].plot()\n",
    "\n",
    "# Maximum value in the data set\n",
    "MaxValue = df['Time (s)'].max()\n",
    "\n",
    "# Name associated with the maximum value\n",
    "MaxName = df['Test Case'][df['Time (s)'] == df['Time (s)'].max()].values\n",
    "\n",
    "# Text to display on graph\n",
    "Text = str(MaxValue) + \" - \" + MaxName\n",
    "\n",
    "# Add text to graph\n",
    "plt.annotate(Text, xy=(1, MaxValue), \n",
    "                   xytext=(25, 0), \n",
    "                   xycoords=('axes fraction', 'data'), \n",
    "                   textcoords='offset points',\n",
    "                   arrowprops=dict(arrowstyle='-|>'))\n",
    "\n",
    "print(\"The most time taking test name\")\n",
    "df[df['Time (s)'] == df['Time (s)'].max()]\n",
    "Sorted.head(5) #can also be used"
   ]
  },
  {
   "cell_type": "code",
   "execution_count": 8,
   "metadata": {},
   "outputs": [
    {
     "data": {
      "text/html": [
       "<div>\n",
       "<style scoped>\n",
       "    .dataframe tbody tr th:only-of-type {\n",
       "        vertical-align: middle;\n",
       "    }\n",
       "\n",
       "    .dataframe tbody tr th {\n",
       "        vertical-align: top;\n",
       "    }\n",
       "\n",
       "    .dataframe thead th {\n",
       "        text-align: right;\n",
       "    }\n",
       "</style>\n",
       "<table border=\"1\" class=\"dataframe\">\n",
       "  <thead>\n",
       "    <tr style=\"text-align: right;\">\n",
       "      <th></th>\n",
       "      <th>Suite Name</th>\n",
       "      <th>Test Case</th>\n",
       "      <th>Status</th>\n",
       "      <th>Time (s)</th>\n",
       "      <th>Error Message</th>\n",
       "      <th>Tags</th>\n",
       "    </tr>\n",
       "  </thead>\n",
       "  <tbody>\n",
       "    <tr>\n",
       "      <th>0</th>\n",
       "      <td>PlayLottery-Group Play</td>\n",
       "      <td>Join Group Members</td>\n",
       "      <td>PASS</td>\n",
       "      <td>909.295</td>\n",
       "      <td>NaN</td>\n",
       "      <td>[new, PDPTR-1638, Portal, smoke, test]</td>\n",
       "    </tr>\n",
       "    <tr>\n",
       "      <th>1</th>\n",
       "      <td>PlayLottery-Internet Wager via Replay</td>\n",
       "      <td>Replay Wagers AllOrNothing</td>\n",
       "      <td>PASS</td>\n",
       "      <td>872.542</td>\n",
       "      <td>NaN</td>\n",
       "      <td>[extendedsmoke, iLottery, new, PDPTR-1634]</td>\n",
       "    </tr>\n",
       "    <tr>\n",
       "      <th>2</th>\n",
       "      <td>PlayLottery-Internet Wager via Replay</td>\n",
       "      <td>Replay Wagers Pick4</td>\n",
       "      <td>PASS</td>\n",
       "      <td>793.778</td>\n",
       "      <td>NaN</td>\n",
       "      <td>[extendedsmoke, iLottery, new, PDPTR-1634]</td>\n",
       "    </tr>\n",
       "    <tr>\n",
       "      <th>3</th>\n",
       "      <td>PlayLottery-Internet Wager via Replay</td>\n",
       "      <td>Replay Wagers Pick3</td>\n",
       "      <td>PASS</td>\n",
       "      <td>773.336</td>\n",
       "      <td>NaN</td>\n",
       "      <td>[extendedsmoke, iLottery, new, PDPTR-1634]</td>\n",
       "    </tr>\n",
       "  </tbody>\n",
       "</table>\n",
       "</div>"
      ],
      "text/plain": [
       "                              Suite Name                   Test Case Status  \\\n",
       "0                 PlayLottery-Group Play          Join Group Members   PASS   \n",
       "1  PlayLottery-Internet Wager via Replay  Replay Wagers AllOrNothing   PASS   \n",
       "2  PlayLottery-Internet Wager via Replay         Replay Wagers Pick4   PASS   \n",
       "3  PlayLottery-Internet Wager via Replay         Replay Wagers Pick3   PASS   \n",
       "\n",
       "   Time (s) Error Message                                        Tags  \n",
       "0   909.295           NaN      [new, PDPTR-1638, Portal, smoke, test]  \n",
       "1   872.542           NaN  [extendedsmoke, iLottery, new, PDPTR-1634]  \n",
       "2   793.778           NaN  [extendedsmoke, iLottery, new, PDPTR-1634]  \n",
       "3   773.336           NaN  [extendedsmoke, iLottery, new, PDPTR-1634]  "
      ]
     },
     "execution_count": 8,
     "metadata": {},
     "output_type": "execute_result"
    }
   ],
   "source": [
    "Sorted = df.sort_values(['Suite Name'], ascending=False)\n",
    "df[:4]"
   ]
  },
  {
   "cell_type": "code",
   "execution_count": 9,
   "metadata": {},
   "outputs": [
    {
     "name": "stdout",
     "output_type": "stream",
     "text": [
      "<class 'pandas.core.frame.DataFrame'>\n",
      "RangeIndex: 82 entries, 0 to 81\n",
      "Data columns (total 6 columns):\n",
      " #   Column         Non-Null Count  Dtype  \n",
      "---  ------         --------------  -----  \n",
      " 0   Suite Name     82 non-null     object \n",
      " 1   Test Case      82 non-null     object \n",
      " 2   Status         82 non-null     object \n",
      " 3   Time (s)       82 non-null     float64\n",
      " 4   Error Message  18 non-null     object \n",
      " 5   Tags           82 non-null     object \n",
      "dtypes: float64(1), object(5)\n",
      "memory usage: 2.3+ KB\n"
     ]
    }
   ],
   "source": [
    "df.info()"
   ]
  },
  {
   "cell_type": "code",
   "execution_count": 10,
   "metadata": {},
   "outputs": [
    {
     "data": {
      "text/html": [
       "<div>\n",
       "<style scoped>\n",
       "    .dataframe tbody tr th:only-of-type {\n",
       "        vertical-align: middle;\n",
       "    }\n",
       "\n",
       "    .dataframe tbody tr th {\n",
       "        vertical-align: top;\n",
       "    }\n",
       "\n",
       "    .dataframe thead th {\n",
       "        text-align: right;\n",
       "    }\n",
       "</style>\n",
       "<table border=\"1\" class=\"dataframe\">\n",
       "  <thead>\n",
       "    <tr style=\"text-align: right;\">\n",
       "      <th></th>\n",
       "      <th>Suite Name</th>\n",
       "      <th>Test Case</th>\n",
       "      <th>Status</th>\n",
       "      <th>Time (s)</th>\n",
       "      <th>Error Message</th>\n",
       "      <th>Tags</th>\n",
       "    </tr>\n",
       "  </thead>\n",
       "  <tbody>\n",
       "    <tr>\n",
       "      <th>78</th>\n",
       "      <td>Portal-iGift</td>\n",
       "      <td>Send iGift</td>\n",
       "      <td>FAIL</td>\n",
       "      <td>73.693</td>\n",
       "      <td>AttributeError: 'NoneType' object has no attri...</td>\n",
       "      <td>[new, PDPTR-1591, PDPTR-1592, Portal, smoke, t...</td>\n",
       "    </tr>\n",
       "    <tr>\n",
       "      <th>79</th>\n",
       "      <td>01 CasinoTestSuite</td>\n",
       "      <td>Casino game play with no-win</td>\n",
       "      <td>PASS</td>\n",
       "      <td>63.246</td>\n",
       "      <td>NameError: name 'BuiltIn' is not defined</td>\n",
       "      <td>[casino, critical, extendedsmoke, new, Portal]</td>\n",
       "    </tr>\n",
       "    <tr>\n",
       "      <th>80</th>\n",
       "      <td>01 CasinoTestSuite</td>\n",
       "      <td>Casino game play with win</td>\n",
       "      <td>PASS</td>\n",
       "      <td>58.097</td>\n",
       "      <td>NameError: name 'BuiltIn' is not defined</td>\n",
       "      <td>[casino, critical, extendedsmoke, new, Portal]</td>\n",
       "    </tr>\n",
       "    <tr>\n",
       "      <th>81</th>\n",
       "      <td>Portal-Search Retailer</td>\n",
       "      <td>Retailer Search</td>\n",
       "      <td>PASS</td>\n",
       "      <td>44.874</td>\n",
       "      <td>NaN</td>\n",
       "      <td>[extendedsmoke, PDPTR-10550, Portal, test]</td>\n",
       "    </tr>\n",
       "  </tbody>\n",
       "</table>\n",
       "</div>"
      ],
      "text/plain": [
       "                Suite Name                     Test Case Status  Time (s)  \\\n",
       "78            Portal-iGift                    Send iGift   FAIL    73.693   \n",
       "79      01 CasinoTestSuite  Casino game play with no-win   PASS    63.246   \n",
       "80      01 CasinoTestSuite     Casino game play with win   PASS    58.097   \n",
       "81  Portal-Search Retailer               Retailer Search   PASS    44.874   \n",
       "\n",
       "                                        Error Message  \\\n",
       "78  AttributeError: 'NoneType' object has no attri...   \n",
       "79           NameError: name 'BuiltIn' is not defined   \n",
       "80           NameError: name 'BuiltIn' is not defined   \n",
       "81                                                NaN   \n",
       "\n",
       "                                                 Tags  \n",
       "78  [new, PDPTR-1591, PDPTR-1592, Portal, smoke, t...  \n",
       "79     [casino, critical, extendedsmoke, new, Portal]  \n",
       "80     [casino, critical, extendedsmoke, new, Portal]  \n",
       "81         [extendedsmoke, PDPTR-10550, Portal, test]  "
      ]
     },
     "execution_count": 10,
     "metadata": {},
     "output_type": "execute_result"
    }
   ],
   "source": [
    "df.tail(4)"
   ]
  },
  {
   "cell_type": "markdown",
   "metadata": {},
   "source": [
    "<h2>Unique values</h2>"
   ]
  },
  {
   "cell_type": "code",
   "execution_count": 11,
   "metadata": {},
   "outputs": [
    {
     "data": {
      "text/plain": [
       "array(['PlayLottery-Group Play', 'PlayLottery-Internet Wager via Replay',\n",
       "       'PlayLottery-Internet Wager via Balance', 'Portal-Cashier APP',\n",
       "       'PlayLottery-Internet Wager via Subscription',\n",
       "       'PlayLottery-Favorite ILottery Games',\n",
       "       'PlayLottery-Internet Wager via Points',\n",
       "       'PlayLottery-Instant Award Promotions',\n",
       "       'Internet Wager via Shopping Cart', 'PlayLottery-Package Play',\n",
       "       'Portal-Rewards Club', 'Portal-My Consents',\n",
       "       'PlayLottery-System Wager via Balance',\n",
       "       'Portal-Player Registrations', 'Portal-Set Limits',\n",
       "       'PlayLottery-Triggers', 'Portal-My Account',\n",
       "       'Portal-Forgot password', '01 BingoTestSuite', 'Accounts',\n",
       "       'Portal-My Details', 'Shopping Cart', 'Portal-My Device',\n",
       "       'Portal-iGift', '01 CasinoTestSuite', 'Portal-Search Retailer'],\n",
       "      dtype=object)"
      ]
     },
     "execution_count": 11,
     "metadata": {},
     "output_type": "execute_result"
    }
   ],
   "source": [
    "df['Suite Name'].unique()"
   ]
  },
  {
   "cell_type": "code",
   "execution_count": 12,
   "metadata": {},
   "outputs": [
    {
     "name": "stdout",
     "output_type": "stream",
     "text": [
      "Suite Names:\n",
      "0 PlayLottery-Group Play\n",
      "1 PlayLottery-Internet Wager via Replay\n",
      "2 PlayLottery-Internet Wager via Balance\n",
      "3 Portal-Cashier APP\n",
      "4 PlayLottery-Internet Wager via Subscription\n",
      "5 PlayLottery-Favorite ILottery Games\n",
      "6 PlayLottery-Internet Wager via Points\n",
      "7 PlayLottery-Instant Award Promotions\n",
      "8 Internet Wager via Shopping Cart\n",
      "9 PlayLottery-Package Play\n",
      "10 Portal-Rewards Club\n",
      "11 Portal-My Consents\n",
      "12 PlayLottery-System Wager via Balance\n",
      "13 Portal-Player Registrations\n",
      "14 Portal-Set Limits\n",
      "15 PlayLottery-Triggers\n",
      "16 Portal-My Account\n",
      "17 Portal-Forgot password\n",
      "18 01 BingoTestSuite\n",
      "19 Accounts\n",
      "20 Portal-My Details\n",
      "21 Shopping Cart\n",
      "22 Portal-My Device\n",
      "23 Portal-iGift\n",
      "24 01 CasinoTestSuite\n",
      "25 Portal-Search Retailer\n"
     ]
    }
   ],
   "source": [
    "print('Suite Names:')\n",
    "for i, suite in enumerate(df['Suite Name'].unique()):\n",
    "    print(i, suite)"
   ]
  },
  {
   "cell_type": "markdown",
   "metadata": {},
   "source": [
    "<h3>Describe specific column data </h3>"
   ]
  },
  {
   "cell_type": "code",
   "execution_count": 13,
   "metadata": {},
   "outputs": [
    {
     "data": {
      "text/plain": [
       "count                                              82\n",
       "unique                                             26\n",
       "top       PlayLottery-Internet Wager via Subscription\n",
       "freq                                               11\n",
       "Name: Suite Name, dtype: object"
      ]
     },
     "execution_count": 13,
     "metadata": {},
     "output_type": "execute_result"
    }
   ],
   "source": [
    "# Suite details\n",
    "df['Suite Name'].describe()"
   ]
  },
  {
   "cell_type": "code",
   "execution_count": 14,
   "metadata": {},
   "outputs": [
    {
     "data": {
      "text/plain": [
       "count                 82\n",
       "unique                81\n",
       "top       Closed Account\n",
       "freq                   2\n",
       "Name: Test Case, dtype: object"
      ]
     },
     "execution_count": 14,
     "metadata": {},
     "output_type": "execute_result"
    }
   ],
   "source": [
    "# Tests details\n",
    "df['Test Case'].describe()"
   ]
  },
  {
   "cell_type": "markdown",
   "metadata": {},
   "source": [
    "<h4 style=\"background-color:LightGreen;padding:6px\">Group by or Agregation: FAIL vs PASS</h4>"
   ]
  },
  {
   "cell_type": "code",
   "execution_count": 22,
   "metadata": {},
   "outputs": [
    {
     "name": "stdout",
     "output_type": "stream",
     "text": [
      "Counts by FAIL/PASS Status\n",
      "         Suite Name  Test Case  Time (s)  Error Message  Tags\n",
      "Status                                                      \n",
      "FAIL            15         15        15             15    15\n",
      "PASS            67         67        67              3    67\n"
     ]
    },
    {
     "data": {
      "text/html": [
       "<div>\n",
       "<style scoped>\n",
       "    .dataframe tbody tr th:only-of-type {\n",
       "        vertical-align: middle;\n",
       "    }\n",
       "\n",
       "    .dataframe tbody tr th {\n",
       "        vertical-align: top;\n",
       "    }\n",
       "\n",
       "    .dataframe thead th {\n",
       "        text-align: right;\n",
       "    }\n",
       "</style>\n",
       "<table border=\"1\" class=\"dataframe\">\n",
       "  <thead>\n",
       "    <tr style=\"text-align: right;\">\n",
       "      <th></th>\n",
       "      <th>Time (s)</th>\n",
       "    </tr>\n",
       "    <tr>\n",
       "      <th>Status</th>\n",
       "      <th></th>\n",
       "    </tr>\n",
       "  </thead>\n",
       "  <tbody>\n",
       "    <tr>\n",
       "      <th>FAIL</th>\n",
       "      <td>3594.562</td>\n",
       "    </tr>\n",
       "    <tr>\n",
       "      <th>PASS</th>\n",
       "      <td>28562.360</td>\n",
       "    </tr>\n",
       "  </tbody>\n",
       "</table>\n",
       "</div>"
      ],
      "text/plain": [
       "         Time (s)\n",
       "Status           \n",
       "FAIL     3594.562\n",
       "PASS    28562.360"
      ]
     },
     "execution_count": 22,
     "metadata": {},
     "output_type": "execute_result"
    }
   ],
   "source": [
    "# Create a groupby object\n",
    "status = df.groupby('Status')\n",
    "print('Counts by FAIL/PASS Status\\n', status.count())\n",
    "\n",
    "# Apply the sum function to the groupby object\n",
    "dft = status.sum()\n",
    "dft"
   ]
  },
  {
   "cell_type": "code",
   "execution_count": 34,
   "metadata": {},
   "outputs": [
    {
     "name": "stdout",
     "output_type": "stream",
     "text": [
      "Failed tests took 59  mins and  0.98 hours\n",
      "Passed tests took 476 mins and  7.93 hours\n",
      "Total time taken: 535 mins or   8.92 hours\n"
     ]
    }
   ],
   "source": [
    "failed = dft.values.tolist()[0][0]//60\n",
    "passed = dft.values.tolist()[1][0]//60\n",
    "print('Failed tests took', int(failed), \" mins and \", round(failed/60, 2), 'hours')\n",
    "print('Passed tests took', int(passed), \"mins and \", round(passed/60, 2), 'hours')\n",
    "print('Total time taken:', int(failed+passed), 'mins or  ', round((failed+passed)/60, 2), 'hours')"
   ]
  },
  {
   "cell_type": "code",
   "execution_count": 17,
   "metadata": {},
   "outputs": [
    {
     "name": "stdout",
     "output_type": "stream",
     "text": [
      "<class 'pandas.core.frame.DataFrame'>\n",
      "Int64Index: 15 entries, 7 to 78\n",
      "Data columns (total 6 columns):\n",
      " #   Column         Non-Null Count  Dtype  \n",
      "---  ------         --------------  -----  \n",
      " 0   Error Message  15 non-null     object \n",
      " 1   Status         15 non-null     object \n",
      " 2   Suite Name     15 non-null     object \n",
      " 3   Tags           15 non-null     object \n",
      " 4   Test Case      15 non-null     object \n",
      " 5   Time (s)       15 non-null     float64\n",
      "dtypes: float64(1), object(5)\n",
      "memory usage: 540.0+ bytes\n"
     ]
    }
   ],
   "source": [
    "failed_df = df[df['Status']=='FAIL'].sort_index(axis=1)\n",
    "failed_df.info()"
   ]
  },
  {
   "cell_type": "markdown",
   "metadata": {},
   "source": [
    "<p style=\"background-color:Tomato;Padding:8px\">Faield Tests Error Messages</p>"
   ]
  },
  {
   "cell_type": "code",
   "execution_count": 39,
   "metadata": {},
   "outputs": [
    {
     "data": {
      "text/html": [
       "<div>\n",
       "<style scoped>\n",
       "    .dataframe tbody tr th:only-of-type {\n",
       "        vertical-align: middle;\n",
       "    }\n",
       "\n",
       "    .dataframe tbody tr th {\n",
       "        vertical-align: top;\n",
       "    }\n",
       "\n",
       "    .dataframe thead th {\n",
       "        text-align: right;\n",
       "    }\n",
       "</style>\n",
       "<table border=\"1\" class=\"dataframe\">\n",
       "  <thead>\n",
       "    <tr style=\"text-align: right;\">\n",
       "      <th></th>\n",
       "      <th>Suite Name</th>\n",
       "      <th>Test Case</th>\n",
       "      <th>Error Message</th>\n",
       "      <th>Status</th>\n",
       "      <th>Time (s)</th>\n",
       "    </tr>\n",
       "  </thead>\n",
       "  <tbody>\n",
       "    <tr>\n",
       "      <th>7</th>\n",
       "      <td>Portal-Cashier APP</td>\n",
       "      <td>PayPal Accounts Deposit For Players</td>\n",
       "      <td>Element with locator 'xpath=//*[@id='homeForm:...</td>\n",
       "      <td>FAIL</td>\n",
       "      <td>539.904</td>\n",
       "    </tr>\n",
       "    <tr>\n",
       "      <th>47</th>\n",
       "      <td>Portal-Cashier APP</td>\n",
       "      <td>Bank Accounts Deposit For Existing Player</td>\n",
       "      <td>AttributeError: 'NoneType' object has no attri...</td>\n",
       "      <td>FAIL</td>\n",
       "      <td>366.849</td>\n",
       "    </tr>\n",
       "    <tr>\n",
       "      <th>48</th>\n",
       "      <td>PlayLottery-Instant Award Promotions</td>\n",
       "      <td>Instant Award Promo Discount</td>\n",
       "      <td>Text 'Player Account info' did not appear in 1...</td>\n",
       "      <td>FAIL</td>\n",
       "      <td>366.270</td>\n",
       "    </tr>\n",
       "    <tr>\n",
       "      <th>50</th>\n",
       "      <td>Portal-Cashier APP</td>\n",
       "      <td>Card Accounts Deposit For Player</td>\n",
       "      <td>AttributeError: 'NoneType' object has no attri...</td>\n",
       "      <td>FAIL</td>\n",
       "      <td>336.605</td>\n",
       "    </tr>\n",
       "    <tr>\n",
       "      <th>53</th>\n",
       "      <td>Portal-Cashier APP</td>\n",
       "      <td>Cards Accounts Deposit To Verify Loyalty Points</td>\n",
       "      <td>AttributeError: 'NoneType' object has no attri...</td>\n",
       "      <td>FAIL</td>\n",
       "      <td>326.327</td>\n",
       "    </tr>\n",
       "    <tr>\n",
       "      <th>56</th>\n",
       "      <td>PlayLottery-Internet Wager via Replay</td>\n",
       "      <td>Replay Wagers Megamillions</td>\n",
       "      <td>StaleElementReferenceException: Message: stale...</td>\n",
       "      <td>FAIL</td>\n",
       "      <td>307.236</td>\n",
       "    </tr>\n",
       "    <tr>\n",
       "      <th>70</th>\n",
       "      <td>Portal-My Account</td>\n",
       "      <td>Closed Account</td>\n",
       "      <td>Text 'To Close' did not appear in 5 seconds.</td>\n",
       "      <td>FAIL</td>\n",
       "      <td>218.984</td>\n",
       "    </tr>\n",
       "    <tr>\n",
       "      <th>71</th>\n",
       "      <td>Portal-Set Limits</td>\n",
       "      <td>SetLimits Deposit</td>\n",
       "      <td>Element 'xpath=//span[contains(text(),'Daily d...</td>\n",
       "      <td>FAIL</td>\n",
       "      <td>212.515</td>\n",
       "    </tr>\n",
       "    <tr>\n",
       "      <th>72</th>\n",
       "      <td>Portal-Cashier APP</td>\n",
       "      <td>Cards Accounts Withdraw For Existing Player</td>\n",
       "      <td>TimeoutException: Message:</td>\n",
       "      <td>FAIL</td>\n",
       "      <td>204.532</td>\n",
       "    </tr>\n",
       "    <tr>\n",
       "      <th>73</th>\n",
       "      <td>PlayLottery-Internet Wager via Balance</td>\n",
       "      <td>Play EZ Match</td>\n",
       "      <td>AttributeError: 'NoneType' object has no attri...</td>\n",
       "      <td>FAIL</td>\n",
       "      <td>170.298</td>\n",
       "    </tr>\n",
       "    <tr>\n",
       "      <th>74</th>\n",
       "      <td>Portal-Cashier APP</td>\n",
       "      <td>Paypal Accounts Withdraw For Existing Player</td>\n",
       "      <td>AttributeError: 'NoneType' object has no attri...</td>\n",
       "      <td>FAIL</td>\n",
       "      <td>164.304</td>\n",
       "    </tr>\n",
       "    <tr>\n",
       "      <th>75</th>\n",
       "      <td>Portal-My Details</td>\n",
       "      <td>MyDetails Page</td>\n",
       "      <td>StaleElementReferenceException: Message: stale...</td>\n",
       "      <td>FAIL</td>\n",
       "      <td>123.358</td>\n",
       "    </tr>\n",
       "    <tr>\n",
       "      <th>76</th>\n",
       "      <td>Shopping Cart</td>\n",
       "      <td>Editting ShoppingCart And Purchase</td>\n",
       "      <td>No keyword with name 'checkout_game_from_shopp...</td>\n",
       "      <td>FAIL</td>\n",
       "      <td>102.704</td>\n",
       "    </tr>\n",
       "    <tr>\n",
       "      <th>77</th>\n",
       "      <td>Portal-My Device</td>\n",
       "      <td>MyDevice Page</td>\n",
       "      <td>No keyword with name 'Hostname' found.</td>\n",
       "      <td>FAIL</td>\n",
       "      <td>80.983</td>\n",
       "    </tr>\n",
       "    <tr>\n",
       "      <th>78</th>\n",
       "      <td>Portal-iGift</td>\n",
       "      <td>Send iGift</td>\n",
       "      <td>AttributeError: 'NoneType' object has no attri...</td>\n",
       "      <td>FAIL</td>\n",
       "      <td>73.693</td>\n",
       "    </tr>\n",
       "  </tbody>\n",
       "</table>\n",
       "</div>"
      ],
      "text/plain": [
       "                                Suite Name  \\\n",
       "7                       Portal-Cashier APP   \n",
       "47                      Portal-Cashier APP   \n",
       "48    PlayLottery-Instant Award Promotions   \n",
       "50                      Portal-Cashier APP   \n",
       "53                      Portal-Cashier APP   \n",
       "56   PlayLottery-Internet Wager via Replay   \n",
       "70                       Portal-My Account   \n",
       "71                       Portal-Set Limits   \n",
       "72                      Portal-Cashier APP   \n",
       "73  PlayLottery-Internet Wager via Balance   \n",
       "74                      Portal-Cashier APP   \n",
       "75                       Portal-My Details   \n",
       "76                           Shopping Cart   \n",
       "77                        Portal-My Device   \n",
       "78                            Portal-iGift   \n",
       "\n",
       "                                          Test Case  \\\n",
       "7               PayPal Accounts Deposit For Players   \n",
       "47        Bank Accounts Deposit For Existing Player   \n",
       "48                     Instant Award Promo Discount   \n",
       "50                 Card Accounts Deposit For Player   \n",
       "53  Cards Accounts Deposit To Verify Loyalty Points   \n",
       "56                       Replay Wagers Megamillions   \n",
       "70                                   Closed Account   \n",
       "71                                SetLimits Deposit   \n",
       "72      Cards Accounts Withdraw For Existing Player   \n",
       "73                                    Play EZ Match   \n",
       "74     Paypal Accounts Withdraw For Existing Player   \n",
       "75                                   MyDetails Page   \n",
       "76               Editting ShoppingCart And Purchase   \n",
       "77                                    MyDevice Page   \n",
       "78                                       Send iGift   \n",
       "\n",
       "                                        Error Message Status  Time (s)  \n",
       "7   Element with locator 'xpath=//*[@id='homeForm:...   FAIL   539.904  \n",
       "47  AttributeError: 'NoneType' object has no attri...   FAIL   366.849  \n",
       "48  Text 'Player Account info' did not appear in 1...   FAIL   366.270  \n",
       "50  AttributeError: 'NoneType' object has no attri...   FAIL   336.605  \n",
       "53  AttributeError: 'NoneType' object has no attri...   FAIL   326.327  \n",
       "56  StaleElementReferenceException: Message: stale...   FAIL   307.236  \n",
       "70       Text 'To Close' did not appear in 5 seconds.   FAIL   218.984  \n",
       "71  Element 'xpath=//span[contains(text(),'Daily d...   FAIL   212.515  \n",
       "72                         TimeoutException: Message:   FAIL   204.532  \n",
       "73  AttributeError: 'NoneType' object has no attri...   FAIL   170.298  \n",
       "74  AttributeError: 'NoneType' object has no attri...   FAIL   164.304  \n",
       "75  StaleElementReferenceException: Message: stale...   FAIL   123.358  \n",
       "76  No keyword with name 'checkout_game_from_shopp...   FAIL   102.704  \n",
       "77             No keyword with name 'Hostname' found.   FAIL    80.983  \n",
       "78  AttributeError: 'NoneType' object has no attri...   FAIL    73.693  "
      ]
     },
     "execution_count": 39,
     "metadata": {},
     "output_type": "execute_result"
    }
   ],
   "source": [
    "failed_df[['Suite Name', 'Test Case', 'Error Message', 'Status', 'Time (s)']]"
   ]
  },
  {
   "cell_type": "code",
   "execution_count": null,
   "metadata": {},
   "outputs": [],
   "source": []
  }
 ],
 "metadata": {
  "kernelspec": {
   "display_name": "Python 3",
   "language": "python",
   "name": "python3"
  },
  "language_info": {
   "codemirror_mode": {
    "name": "ipython",
    "version": 3
   },
   "file_extension": ".py",
   "mimetype": "text/x-python",
   "name": "python",
   "nbconvert_exporter": "python",
   "pygments_lexer": "ipython3",
   "version": "3.8.0"
  }
 },
 "nbformat": 4,
 "nbformat_minor": 4
}
